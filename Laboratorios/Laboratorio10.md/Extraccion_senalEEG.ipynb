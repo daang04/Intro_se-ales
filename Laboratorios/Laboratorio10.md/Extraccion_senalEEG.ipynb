{
 "cells": [
  {
   "cell_type": "code",
   "execution_count": 2,
   "metadata": {},
   "outputs": [
    {
     "ename": "ModuleNotFoundError",
     "evalue": "No module named 'seaborn'",
     "output_type": "error",
     "traceback": [
      "\u001b[1;31m---------------------------------------------------------------------------\u001b[0m",
      "\u001b[1;31mModuleNotFoundError\u001b[0m                       Traceback (most recent call last)",
      "\u001b[1;32mc:\\Users\\Andrea\\OneDrive\\Desktop\\introseñale\\Extraccion_senalEEG.ipynb Cell 1\u001b[0m line \u001b[0;36m4\n\u001b[0;32m      <a href='vscode-notebook-cell:/c%3A/Users/Andrea/OneDrive/Desktop/introse%C3%B1ale/Extraccion_senalEEG.ipynb#W0sZmlsZQ%3D%3D?line=1'>2</a>\u001b[0m \u001b[39mimport\u001b[39;00m \u001b[39mmatplotlib\u001b[39;00m\u001b[39m.\u001b[39;00m\u001b[39mpyplot\u001b[39;00m \u001b[39mas\u001b[39;00m \u001b[39mplt\u001b[39;00m\n\u001b[0;32m      <a href='vscode-notebook-cell:/c%3A/Users/Andrea/OneDrive/Desktop/introse%C3%B1ale/Extraccion_senalEEG.ipynb#W0sZmlsZQ%3D%3D?line=2'>3</a>\u001b[0m \u001b[39mimport\u001b[39;00m \u001b[39mpandas\u001b[39;00m \u001b[39mas\u001b[39;00m \u001b[39mpd\u001b[39;00m\n\u001b[1;32m----> <a href='vscode-notebook-cell:/c%3A/Users/Andrea/OneDrive/Desktop/introse%C3%B1ale/Extraccion_senalEEG.ipynb#W0sZmlsZQ%3D%3D?line=3'>4</a>\u001b[0m \u001b[39mimport\u001b[39;00m \u001b[39mseaborn\u001b[39;00m \u001b[39mas\u001b[39;00m \u001b[39msns\u001b[39;00m\n\u001b[0;32m      <a href='vscode-notebook-cell:/c%3A/Users/Andrea/OneDrive/Desktop/introse%C3%B1ale/Extraccion_senalEEG.ipynb#W0sZmlsZQ%3D%3D?line=4'>5</a>\u001b[0m \u001b[39mimport\u001b[39;00m \u001b[39mre\u001b[39;00m\n\u001b[0;32m      <a href='vscode-notebook-cell:/c%3A/Users/Andrea/OneDrive/Desktop/introse%C3%B1ale/Extraccion_senalEEG.ipynb#W0sZmlsZQ%3D%3D?line=5'>6</a>\u001b[0m \u001b[39mfrom\u001b[39;00m \u001b[39mscipy\u001b[39;00m \u001b[39mimport\u001b[39;00m signal\n",
      "\u001b[1;31mModuleNotFoundError\u001b[0m: No module named 'seaborn'"
     ]
    }
   ],
   "source": [
    "import numpy as np\n",
    "import matplotlib.pyplot as plt\n",
    "import pandas as pd\n",
    "import seaborn as sns\n",
    "import re\n",
    "from scipy import signal\n",
    "from scipy.signal import firwin, lfilter\n",
    "import pywt\n",
    "import neurokit2 as nk"
   ]
  },
  {
   "cell_type": "code",
   "execution_count": null,
   "metadata": {},
   "outputs": [],
   "source": [
    "def cargar_y_procesar_senal(archivo, columna, Fs):\n",
    "    array = np.genfromtxt(archivo, delimiter=\"\\t\", skip_header=3, missing_values=0)\n",
    "    senal = array[:, columna]\n",
    "    Ts = 1 / Fs\n",
    "    n = len(senal)\n",
    "    t = np.arange(0, n * Ts, Ts)\n",
    "    return t, senal \n"
   ]
  },
  {
   "cell_type": "code",
   "execution_count": null,
   "metadata": {},
   "outputs": [],
   "source": [
    "t_eeg, signaleeg = cargar_y_procesar_senal(\"eeg.txt\", 5, Fs=100)\n",
    "\n",
    "Fs=100"
   ]
  },
  {
   "cell_type": "code",
   "execution_count": null,
   "metadata": {},
   "outputs": [],
   "source": [
    "\"delta band\"\n",
    "N = 1000  # Number of order\n",
    "wc1 = 2 / (Fs * 2)  # I choose to extract the theta band\n",
    "wc2 = 4 / (Fs * 2)\n",
    "\n",
    "k = np.arange(0, N / 2 + 1)  # It can be sampled because the number of orders is even\n",
    "wk = 2 * k / N\n",
    "a = ((wk < wc2) & (wk > wc1)).astype(np.int8)\n",
    "h = scipy.signal.firwin(N + 1, [wc1, wc2], pass_zero=False)\n",
    "\n",
    "# Assuming x is defined before running this code\n",
    "Delta_band = scipy.signal.lfilter(h, 1, signaleeg)"
   ]
  },
  {
   "cell_type": "code",
   "execution_count": null,
   "metadata": {},
   "outputs": [],
   "source": [
    "\"Theta band\"\n",
    "N = 1000  # Number of order\n",
    "wc1 = 4 / (Fs * 2)  # I choose to extract the theta band\n",
    "wc2 = 8 / (Fs * 2)\n",
    "\n",
    "k = np.arange(0, N / 2 + 1)  # It can be sampled because the number of orders is even\n",
    "wk = 2 * k / N\n",
    "a = ((wk < wc2) & (wk > wc1)).astype(np.int8)\n",
    "h = scipy.signal.firwin(N + 1, [wc1, wc2], pass_zero=False)\n",
    "\n",
    "# Assuming x is defined before running this code\n",
    "theta_band = scipy.signal.lfilter(h, 1, signaleeg)"
   ]
  },
  {
   "cell_type": "code",
   "execution_count": null,
   "metadata": {},
   "outputs": [],
   "source": [
    "\"Alpha band\"\n",
    "N = 1000  # Number of order\n",
    "wc1 = 8 / (Fs * 2)  # I choose to extract the theta band\n",
    "wc2 = 16 / (Fs * 2)\n",
    "\n",
    "k = np.arange(0, N / 2 + 1)  # It can be sampled because the number of orders is even\n",
    "wk = 2 * k / N\n",
    "a = ((wk < wc2) & (wk > wc1)).astype(np.int8)\n",
    "h = scipy.signal.firwin(N + 1, [wc1, wc2], pass_zero=False)\n",
    "\n",
    "# Assuming x is defined before running this code\n",
    "Alpha_band = scipy.signal.lfilter(h, 1, signaleeg)"
   ]
  },
  {
   "cell_type": "code",
   "execution_count": null,
   "metadata": {},
   "outputs": [],
   "source": [
    "\"Beta band\"\n",
    "N = 1000  # Number of order\n",
    "wc1 = 16 / (Fs * 2)  # I choose to extract the theta band\n",
    "wc2 = 32 / (Fs * 2)\n",
    "\n",
    "k = np.arange(0, N / 2 + 1)  # It can be sampled because the number of orders is even\n",
    "wk = 2 * k / N\n",
    "a = ((wk < wc2) & (wk > wc1)).astype(np.int8)\n",
    "h = scipy.signal.firwin(N + 1, [wc1, wc2], pass_zero=False)\n",
    "\n",
    "# Assuming x is defined before running this code\n",
    "Alpha_band = scipy.signal.lfilter(h, 1, signaleeg)"
   ]
  }
 ],
 "metadata": {
  "kernelspec": {
   "display_name": "Python 3",
   "language": "python",
   "name": "python3"
  },
  "language_info": {
   "codemirror_mode": {
    "name": "ipython",
    "version": 3
   },
   "file_extension": ".py",
   "mimetype": "text/x-python",
   "name": "python",
   "nbconvert_exporter": "python",
   "pygments_lexer": "ipython3",
   "version": "3.10.4"
  },
  "orig_nbformat": 4
 },
 "nbformat": 4,
 "nbformat_minor": 2
}
