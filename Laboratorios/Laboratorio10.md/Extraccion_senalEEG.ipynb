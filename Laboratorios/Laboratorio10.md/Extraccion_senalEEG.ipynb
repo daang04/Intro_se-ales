{
  "cells": [
    {
      "cell_type": "code",
      "source": [
        "pip install neurokit2\n"
      ],
      "metadata": {
        "colab": {
          "base_uri": "https://localhost:8080/"
        },
        "id": "SrIzq8sED26S",
        "outputId": "af4ed2c3-d230-404f-c041-a81906c0f13a"
      },
      "execution_count": 13,
      "outputs": [
        {
          "output_type": "stream",
          "name": "stdout",
          "text": [
            "Requirement already satisfied: neurokit2 in /usr/local/lib/python3.10/dist-packages (0.2.7)\n",
            "Requirement already satisfied: numpy in /usr/local/lib/python3.10/dist-packages (from neurokit2) (1.23.5)\n",
            "Requirement already satisfied: pandas in /usr/local/lib/python3.10/dist-packages (from neurokit2) (1.5.3)\n",
            "Requirement already satisfied: scipy in /usr/local/lib/python3.10/dist-packages (from neurokit2) (1.11.3)\n",
            "Requirement already satisfied: scikit-learn>=1.0.0 in /usr/local/lib/python3.10/dist-packages (from neurokit2) (1.2.2)\n",
            "Requirement already satisfied: matplotlib in /usr/local/lib/python3.10/dist-packages (from neurokit2) (3.7.1)\n",
            "Requirement already satisfied: joblib>=1.1.1 in /usr/local/lib/python3.10/dist-packages (from scikit-learn>=1.0.0->neurokit2) (1.3.2)\n",
            "Requirement already satisfied: threadpoolctl>=2.0.0 in /usr/local/lib/python3.10/dist-packages (from scikit-learn>=1.0.0->neurokit2) (3.2.0)\n",
            "Requirement already satisfied: contourpy>=1.0.1 in /usr/local/lib/python3.10/dist-packages (from matplotlib->neurokit2) (1.2.0)\n",
            "Requirement already satisfied: cycler>=0.10 in /usr/local/lib/python3.10/dist-packages (from matplotlib->neurokit2) (0.12.1)\n",
            "Requirement already satisfied: fonttools>=4.22.0 in /usr/local/lib/python3.10/dist-packages (from matplotlib->neurokit2) (4.44.0)\n",
            "Requirement already satisfied: kiwisolver>=1.0.1 in /usr/local/lib/python3.10/dist-packages (from matplotlib->neurokit2) (1.4.5)\n",
            "Requirement already satisfied: packaging>=20.0 in /usr/local/lib/python3.10/dist-packages (from matplotlib->neurokit2) (23.2)\n",
            "Requirement already satisfied: pillow>=6.2.0 in /usr/local/lib/python3.10/dist-packages (from matplotlib->neurokit2) (9.4.0)\n",
            "Requirement already satisfied: pyparsing>=2.3.1 in /usr/local/lib/python3.10/dist-packages (from matplotlib->neurokit2) (3.1.1)\n",
            "Requirement already satisfied: python-dateutil>=2.7 in /usr/local/lib/python3.10/dist-packages (from matplotlib->neurokit2) (2.8.2)\n",
            "Requirement already satisfied: pytz>=2020.1 in /usr/local/lib/python3.10/dist-packages (from pandas->neurokit2) (2023.3.post1)\n",
            "Requirement already satisfied: six>=1.5 in /usr/local/lib/python3.10/dist-packages (from python-dateutil>=2.7->matplotlib->neurokit2) (1.16.0)\n"
          ]
        }
      ]
    },
    {
      "cell_type": "code",
      "execution_count": 14,
      "metadata": {
        "id": "VaNa1mzFD0sq"
      },
      "outputs": [],
      "source": [
        "import numpy as np\n",
        "import matplotlib.pyplot as plt\n",
        "import pandas as pd\n",
        "import seaborn as sns\n",
        "import re\n",
        "from scipy import signal\n",
        "from scipy.signal import firwin, lfilter\n",
        "import scipy.signal as signaal\n",
        "import pywt\n",
        "import neurokit2 as nk"
      ]
    },
    {
      "cell_type": "code",
      "execution_count": 15,
      "metadata": {
        "id": "GcVPnFL1D0ss"
      },
      "outputs": [],
      "source": [
        "def cargar_y_procesar_senal(archivo, columna, Fs):\n",
        "    array = np.genfromtxt(archivo, delimiter=\"\\t\", skip_header=3, missing_values=0)\n",
        "    senal = array[:, columna]\n",
        "    Ts = 1 / Fs\n",
        "    n = len(senal)\n",
        "    t = np.arange(0, n * Ts, Ts)\n",
        "    return t, senal\n"
      ]
    },
    {
      "cell_type": "code",
      "execution_count": 16,
      "metadata": {
        "id": "WD8DUxRCD0ss"
      },
      "outputs": [],
      "source": [
        "t_eeg, signaleeg = cargar_y_procesar_senal(\"eeg.txt\", 5, Fs=100)\n",
        "\n",
        "Fs=100"
      ]
    },
    {
      "cell_type": "code",
      "execution_count": 17,
      "metadata": {
        "colab": {
          "base_uri": "https://localhost:8080/"
        },
        "id": "ew1JPRpzD0st",
        "outputId": "d1670435-98de-48d5-f023-3a26596f8be4"
      },
      "outputs": [
        {
          "output_type": "stream",
          "name": "stdout",
          "text": [
            "RMS (Delta): 83.07800683288704\n",
            "Amplitude (Delta): 649.8057934174266\n",
            "Area (Delta): -40985.155483688\n",
            "Power (Delta): 6901.955219325225\n",
            "Min Value (Delta): -335.2340339356023\n",
            "Max Value (Delta): 314.57175948182424\n",
            "Mean (Delta): -1.8235840284690013\n",
            "Median (Delta): -1.364009604115558\n"
          ]
        }
      ],
      "source": [
        "\"delta band\"\n",
        "N = 1000  # Number of order\n",
        "wc1 = 2 / (Fs * 2)  # I choose to extract the theta band\n",
        "wc2 = 4 / (Fs * 2)\n",
        "\n",
        "k = np.arange(0, N / 2 + 1)  # It can be sampled because the number of orders is even\n",
        "wk = 2 * k / N\n",
        "a = ((wk < wc2) & (wk > wc1)).astype(np.int8)\n",
        "h = signaal.firwin(N + 1, [wc1, wc2], pass_zero=False)\n",
        "\n",
        "# Assuming x is defined before running this code\n",
        "Delta_band = signaal.lfilter(h, 1, signaleeg)\n",
        "\n",
        "# Calculate RMS (Root Mean Square)\n",
        "rms_delta = np.sqrt(np.mean(Delta_band**2))\n",
        "\n",
        "# Calculate Total Amplitude\n",
        "amplitude_delta = np.max(Delta_band) - np.min(Delta_band)\n",
        "\n",
        "# Calculate Area under the curve\n",
        "area_delta = np.trapz(Delta_band)\n",
        "\n",
        "# Calculate Power\n",
        "power_delta = np.mean(Delta_band**2)\n",
        "\n",
        "# Calculate Minimum and Maximum values\n",
        "min_value_delta = np.min(Delta_band)\n",
        "max_value_delta = np.max(Delta_band)\n",
        "\n",
        "# Calculate Mean\n",
        "mean_delta = np.mean(Delta_band)\n",
        "\n",
        "# Calculate Median\n",
        "median_delta = np.median(Delta_band)\n",
        "\n",
        "# Print or use the calculated features as needed\n",
        "print(\"RMS (Delta):\", rms_delta)\n",
        "print(\"Amplitude (Delta):\", amplitude_delta)\n",
        "print(\"Area (Delta):\", area_delta)\n",
        "print(\"Power (Delta):\", power_delta)\n",
        "print(\"Min Value (Delta):\", min_value_delta)\n",
        "print(\"Max Value (Delta):\", max_value_delta)\n",
        "print(\"Mean (Delta):\", mean_delta)\n",
        "print(\"Median (Delta):\", median_delta)"
      ]
    },
    {
      "cell_type": "code",
      "execution_count": 18,
      "metadata": {
        "colab": {
          "base_uri": "https://localhost:8080/"
        },
        "id": "g-3mkTO0D0su",
        "outputId": "97f5ca93-92c1-4221-90c5-671553610f8c"
      },
      "outputs": [
        {
          "output_type": "stream",
          "name": "stdout",
          "text": [
            "RMS (Theta): 127.07103286093329\n",
            "Amplitude (Theta): 920.4630236153996\n",
            "Area (Theta): 8330.01862148968\n",
            "Power (Theta): 16147.047392344388\n",
            "Min Value (Theta): -449.48051099149006\n",
            "Max Value (Theta): 470.98251262390954\n",
            "Mean (Theta): 0.3747293767099355\n",
            "Median (Theta): -0.012287626898799838\n"
          ]
        }
      ],
      "source": [
        "\"Theta band\"\n",
        "N = 1000  # Number of order\n",
        "wc1 = 4 / (Fs * 2)  # I choose to extract the theta band\n",
        "wc2 = 8 / (Fs * 2)\n",
        "\n",
        "k = np.arange(0, N / 2 + 1)  # It can be sampled because the number of orders is even\n",
        "wk = 2 * k / N\n",
        "a = ((wk < wc2) & (wk > wc1)).astype(np.int8)\n",
        "h = signaal.firwin(N + 1, [wc1, wc2], pass_zero=False)\n",
        "\n",
        "# Assuming x is defined before running this code\n",
        "Theta_band = signaal.lfilter(h, 1, signaleeg)\n",
        "\n",
        "rms_theta = np.sqrt(np.mean(Theta_band**2))\n",
        "\n",
        "# Calculate Total Amplitude\n",
        "amplitude_theta = np.max(Theta_band) - np.min(Theta_band)\n",
        "\n",
        "# Calculate Area under the curve\n",
        "area_theta = np.trapz(Theta_band)\n",
        "\n",
        "# Calculate Power\n",
        "power_theta = np.mean(Theta_band**2)\n",
        "\n",
        "# Calculate Minimum and Maximum values\n",
        "min_value_theta = np.min(Theta_band)\n",
        "max_value_theta = np.max(Theta_band)\n",
        "\n",
        "# Calculate Mean\n",
        "mean_theta = np.mean(Theta_band)\n",
        "\n",
        "# Calculate Median\n",
        "median_theta = np.median(Theta_band)\n",
        "\n",
        "# Print or use the calculated features as needed\n",
        "print(\"RMS (Theta):\", rms_theta)\n",
        "print(\"Amplitude (Theta):\", amplitude_theta)\n",
        "print(\"Area (Theta):\", area_theta)\n",
        "print(\"Power (Theta):\", power_theta)\n",
        "print(\"Min Value (Theta):\", min_value_theta)\n",
        "print(\"Max Value (Theta):\", max_value_theta)\n",
        "print(\"Mean (Theta):\", mean_theta)\n",
        "print(\"Median (Theta):\", median_theta)"
      ]
    },
    {
      "cell_type": "code",
      "execution_count": 19,
      "metadata": {
        "colab": {
          "base_uri": "https://localhost:8080/"
        },
        "id": "EOiebFLMD0sv",
        "outputId": "52ec9f83-f070-4039-cb49-c81cb86b1d7d"
      },
      "outputs": [
        {
          "output_type": "stream",
          "name": "stdout",
          "text": [
            "RMS: 101.50370298080828\n",
            "Amplitude: 1044.983747396972\n",
            "Area: 4831.293784882604\n",
            "Power: 10303.001718816147\n",
            "Min Value: -490.52193531571174\n",
            "Max Value: 554.4618120812601\n",
            "Mean: 0.21255353686886283\n",
            "Median: 0.04107527284608937\n"
          ]
        }
      ],
      "source": [
        "\"Alpha band\"\n",
        "N = 1000  # Number of order\n",
        "wc1 = 8 / (Fs * 2)  # I choose to extract the theta band\n",
        "wc2 = 16 / (Fs * 2)\n",
        "\n",
        "k = np.arange(0, N / 2 + 1)  # It can be sampled because the number of orders is even\n",
        "wk = 2 * k / N\n",
        "a = ((wk < wc2) & (wk > wc1)).astype(np.int8)\n",
        "h = signaal.firwin(N + 1, [wc1, wc2], pass_zero=False)\n",
        "\n",
        "# Assuming x is defined before running this code\n",
        "Alpha_band = signaal.lfilter(h, 1, signaleeg)\n",
        "\n",
        "# Calculate RMS (Root Mean Square)\n",
        "rms_alpha = np.sqrt(np.mean(Alpha_band**2))\n",
        "\n",
        "# Calculate Total Amplitude\n",
        "amplitude_alpha = np.max(Alpha_band) - np.min(Alpha_band)\n",
        "\n",
        "# Calculate Area under the curve\n",
        "area_alpha = np.trapz(Alpha_band)\n",
        "\n",
        "# Calculate Power\n",
        "power_alpha = np.mean(Alpha_band**2)\n",
        "\n",
        "# Calculate Minimum and Maximum values\n",
        "min_value_alpha = np.min(Alpha_band)\n",
        "max_value_alpha = np.max(Alpha_band)\n",
        "\n",
        "# Calculate Mean\n",
        "mean_alpha = np.mean(Alpha_band)\n",
        "\n",
        "# Calculate Median\n",
        "median_alpha = np.median(Alpha_band)\n",
        "\n",
        "# Print or use the calculated features as needed\n",
        "print(\"RMS:\", rms_alpha)\n",
        "print(\"Amplitude:\", amplitude_alpha)\n",
        "print(\"Area:\", area_alpha)\n",
        "print(\"Power:\", power_alpha)\n",
        "print(\"Min Value:\", min_value_alpha)\n",
        "print(\"Max Value:\", max_value_alpha)\n",
        "print(\"Mean:\", mean_alpha)\n",
        "print(\"Median:\", median_alpha)"
      ]
    },
    {
      "cell_type": "code",
      "execution_count": 20,
      "metadata": {
        "colab": {
          "base_uri": "https://localhost:8080/"
        },
        "id": "BH0VbFPAD0sv",
        "outputId": "ed99e040-cd3e-4b8b-f31f-4d2e0b0cd68c"
      },
      "outputs": [
        {
          "output_type": "stream",
          "name": "stdout",
          "text": [
            "RMS: 66.52904510954\n",
            "Amplitude: 661.7179740760821\n",
            "Area: 2210.628060269558\n",
            "Power: 4426.113843187208\n",
            "Min Value: -346.54132461972534\n",
            "Max Value: 315.1766494563567\n",
            "Mean: 0.09781222166618311\n",
            "Median: 0.012361999371375285\n"
          ]
        }
      ],
      "source": [
        "\"Beta band\"\n",
        "N = 1000  # Number of order\n",
        "wc1 = 16 / (Fs * 2)  # I choose to extract the theta band\n",
        "wc2 = 32 / (Fs * 2)\n",
        "\n",
        "k = np.arange(0, N / 2 + 1)  # It can be sampled because the number of orders is even\n",
        "wk = 2 * k / N\n",
        "a = ((wk < wc2) & (wk > wc1)).astype(np.int8)\n",
        "h = signaal.firwin(N + 1, [wc1, wc2], pass_zero=False)\n",
        "\n",
        "# Assuming x is defined before running this code\n",
        "Beta_band = signaal.lfilter(h, 1, signaleeg)\n",
        "\n",
        "# Calculate RMS (Root Mean Square)\n",
        "rms_beta = np.sqrt(np.mean(Beta_band**2))\n",
        "\n",
        "# Calculate Total Amplitude\n",
        "amplitude_beta = np.max(Beta_band) - np.min(Beta_band)\n",
        "\n",
        "# Calculate Area under the curve\n",
        "area_beta = np.trapz(Beta_band)\n",
        "\n",
        "# Calculate Power\n",
        "power_beta = np.mean(Beta_band**2)\n",
        "\n",
        "# Calculate Minimum and Maximum values\n",
        "min_value_beta = np.min(Beta_band)\n",
        "max_value_beta = np.max(Beta_band)\n",
        "\n",
        "# Calculate Mean\n",
        "mean_beta = np.mean(Beta_band)\n",
        "\n",
        "# Calculate Median\n",
        "median_beta = np.median(Beta_band)\n",
        "\n",
        "# Print or use the calculated features as needed\n",
        "print(\"RMS:\", rms_beta)\n",
        "print(\"Amplitude:\", amplitude_beta)\n",
        "print(\"Area:\", area_beta)\n",
        "print(\"Power:\", power_beta)\n",
        "print(\"Min Value:\", min_value_beta)\n",
        "print(\"Max Value:\", max_value_beta)\n",
        "print(\"Mean:\", mean_beta)\n",
        "print(\"Median:\", median_beta)"
      ]
    },
    {
      "cell_type": "code",
      "execution_count": 20,
      "metadata": {
        "id": "D4kiPeqnD0sw"
      },
      "outputs": [],
      "source": [
        "\n",
        "\n",
        "\n",
        "\n",
        "\n",
        "\n"
      ]
    }
  ],
  "metadata": {
    "kernelspec": {
      "display_name": "Python 3",
      "language": "python",
      "name": "python3"
    },
    "language_info": {
      "codemirror_mode": {
        "name": "ipython",
        "version": 3
      },
      "file_extension": ".py",
      "mimetype": "text/x-python",
      "name": "python",
      "nbconvert_exporter": "python",
      "pygments_lexer": "ipython3",
      "version": "3.10.4"
    },
    "orig_nbformat": 4,
    "colab": {
      "provenance": []
    }
  },
  "nbformat": 4,
  "nbformat_minor": 0
}